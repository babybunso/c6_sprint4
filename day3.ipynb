{
 "metadata": {
  "language_info": {
   "codemirror_mode": {
    "name": "ipython",
    "version": 3
   },
   "file_extension": ".py",
   "mimetype": "text/x-python",
   "name": "python",
   "nbconvert_exporter": "python",
   "pygments_lexer": "ipython3",
   "version": "3.8.8-final"
  },
  "orig_nbformat": 2,
  "kernelspec": {
   "name": "python3",
   "display_name": "Python 3.8.8 64-bit ('base': conda)",
   "metadata": {
    "interpreter": {
     "hash": "e134e05457d34029b6460cd73bbf1ed73f339b5b6d98c95be70b69eba114fe95"
    }
   }
  }
 },
 "nbformat": 4,
 "nbformat_minor": 2,
 "cells": [
  {
   "cell_type": "code",
   "execution_count": 23,
   "metadata": {},
   "outputs": [],
   "source": [
    "import pandas as pd\n",
    "import numpy as np\n",
    "import matplotlib.pyplot as plt\n",
    "\n",
    "import random as rand\n",
    "import requests as req\n",
    "from time import sleep\n",
    "\n",
    "rand.seed(42)"
   ]
  },
  {
   "cell_type": "code",
   "execution_count": 67,
   "metadata": {},
   "outputs": [],
   "source": [
    "# !pip install selenium\n",
    "from selenium import webdriver\n",
    "from selenium.webdriver.common.keys import Keys\n",
    "from selenium.webdriver.common.by import By\n",
    "from selenium.webdriver.support.ui import WebDriverWait\n",
    "from selenium.webdriver.support import expected_conditions as EC\n",
    "from selenium.webdriver.common.action_chains import ActionChains\n",
    "from selenium.webdriver.chrome.options import Options\n",
    "from selenium.webdriver.support.ui import Select # select = Select(elements)"
   ]
  },
  {
   "cell_type": "code",
   "execution_count": 68,
   "metadata": {},
   "outputs": [
    {
     "output_type": "stream",
     "name": "stdout",
     "text": [
      "/usr/local/bin/chromedriver\n"
     ]
    }
   ],
   "source": [
    "# /usr/bin/safaridriver\n",
    "# /usr/local/bin/operadriver\n",
    "# /usr/local/bin/geckodriver  ### FIREFOX\n",
    "!which chromedriver"
   ]
  },
  {
   "cell_type": "code",
   "execution_count": 101,
   "metadata": {},
   "outputs": [
    {
     "output_type": "stream",
     "name": "stdout",
     "text": [
      "Through Eskwelabs, I developed a data-driven mindset and a greater passion for learning.\nEira B.\n"
     ]
    }
   ],
   "source": [
    "PATH = '/usr/local/bin/chromedriver'\n",
    "driver = webdriver.Chrome(PATH)\n",
    "\n",
    "URL = 'https://google.com'\n",
    "driver.get(URL)\n",
    "search = driver.find_element_by_name('q')\n",
    "search.send_keys('eskwelabs')\n",
    "search.send_keys(Keys.RETURN)\n",
    "\n",
    "# url = driver.current_url\n",
    "# driver.get(url)\n",
    "alink = driver.find_element(By.PARTIAL_LINK_TEXT, 'Eskwelabs')\n",
    "alink.click()\n",
    "\n",
    "# url = driver.current_url\n",
    "# driver.get(url)\n",
    "y = driver.find_element(By.XPATH, '//*[@id=\"__next\"]/div/main/div/section[6]/div/div[3]/article[2]')\n",
    "print(y.text)\n",
    "\n",
    "driver.quit()"
   ]
  },
  {
   "cell_type": "code",
   "execution_count": 96,
   "metadata": {},
   "outputs": [],
   "source": []
  },
  {
   "cell_type": "code",
   "execution_count": null,
   "metadata": {},
   "outputs": [],
   "source": []
  },
  {
   "cell_type": "code",
   "execution_count": null,
   "metadata": {},
   "outputs": [],
   "source": []
  },
  {
   "cell_type": "code",
   "execution_count": null,
   "metadata": {},
   "outputs": [],
   "source": []
  },
  {
   "cell_type": "code",
   "execution_count": null,
   "metadata": {},
   "outputs": [],
   "source": []
  },
  {
   "cell_type": "code",
   "execution_count": null,
   "metadata": {},
   "outputs": [],
   "source": []
  },
  {
   "cell_type": "code",
   "execution_count": null,
   "metadata": {},
   "outputs": [],
   "source": []
  },
  {
   "cell_type": "code",
   "execution_count": null,
   "metadata": {},
   "outputs": [],
   "source": []
  },
  {
   "cell_type": "code",
   "execution_count": 61,
   "metadata": {},
   "outputs": [
    {
     "output_type": "stream",
     "name": "stdout",
     "text": [
      "Items: 50\n",
      "<selenium.webdriver.remote.webelement.WebElement (session=\"de822edf2997ff6ea03878419713c431\", element=\"3099cfb2-1137-4f00-bde4-cb7ae1092f09\")>\n",
      "<selenium.webdriver.remote.webelement.WebElement (session=\"de822edf2997ff6ea03878419713c431\", element=\"9ee3ff51-7856-4020-bb49-0f9b0b545da3\")>\n",
      "<selenium.webdriver.remote.webelement.WebElement (session=\"de822edf2997ff6ea03878419713c431\", element=\"80bb15c9-0eff-44a3-a58e-a3d977849c92\")>\n",
      "<selenium.webdriver.remote.webelement.WebElement (session=\"de822edf2997ff6ea03878419713c431\", element=\"aff27fff-775c-4327-b238-ff6d5aea31c1\")>\n",
      "<selenium.webdriver.remote.webelement.WebElement (session=\"de822edf2997ff6ea03878419713c431\", element=\"fdd3365f-6440-41fc-8c46-60ec052adc91\")>\n",
      "<selenium.webdriver.remote.webelement.WebElement (session=\"de822edf2997ff6ea03878419713c431\", element=\"2ffdadd1-7531-4f21-978c-39ee489abd3a\")>\n",
      "<selenium.webdriver.remote.webelement.WebElement (session=\"de822edf2997ff6ea03878419713c431\", element=\"2abc7554-37f2-4f3d-8c5c-bd8588d6a196\")>\n",
      "<selenium.webdriver.remote.webelement.WebElement (session=\"de822edf2997ff6ea03878419713c431\", element=\"ad680d97-0c5c-411e-ad68-78c105568623\")>\n",
      "<selenium.webdriver.remote.webelement.WebElement (session=\"de822edf2997ff6ea03878419713c431\", element=\"297a8832-df28-424a-bbec-7750c61200f6\")>\n",
      "<selenium.webdriver.remote.webelement.WebElement (session=\"de822edf2997ff6ea03878419713c431\", element=\"b4d4aba9-f0a9-4be7-bcaa-f9eb91cb9a64\")>\n",
      "<selenium.webdriver.remote.webelement.WebElement (session=\"de822edf2997ff6ea03878419713c431\", element=\"734e3b10-9da7-4308-a210-6f70880d31a3\")>\n",
      "<selenium.webdriver.remote.webelement.WebElement (session=\"de822edf2997ff6ea03878419713c431\", element=\"18785df0-1d5f-455c-9af8-7defc6bd94d3\")>\n",
      "<selenium.webdriver.remote.webelement.WebElement (session=\"de822edf2997ff6ea03878419713c431\", element=\"b87f729e-bf80-4688-96ab-ab3211ae07b6\")>\n",
      "<selenium.webdriver.remote.webelement.WebElement (session=\"de822edf2997ff6ea03878419713c431\", element=\"ba8068b7-9f79-488c-a52c-abb3f96aa121\")>\n",
      "<selenium.webdriver.remote.webelement.WebElement (session=\"de822edf2997ff6ea03878419713c431\", element=\"a793957e-b798-4ec8-bbbd-1d0d8e7ae608\")>\n",
      "<selenium.webdriver.remote.webelement.WebElement (session=\"de822edf2997ff6ea03878419713c431\", element=\"586426cd-e2fd-443f-99e9-a90625188d79\")>\n",
      "<selenium.webdriver.remote.webelement.WebElement (session=\"de822edf2997ff6ea03878419713c431\", element=\"9a6b958c-39e4-4aae-8ca8-2fdece189e4c\")>\n",
      "<selenium.webdriver.remote.webelement.WebElement (session=\"de822edf2997ff6ea03878419713c431\", element=\"11ff6be8-73e8-4acf-8648-a3d0db58d689\")>\n",
      "<selenium.webdriver.remote.webelement.WebElement (session=\"de822edf2997ff6ea03878419713c431\", element=\"1a5609de-4c68-443b-8f39-aa39aa66efcc\")>\n",
      "<selenium.webdriver.remote.webelement.WebElement (session=\"de822edf2997ff6ea03878419713c431\", element=\"fa313264-a62a-4cac-b0ed-81b88cbec8af\")>\n",
      "<selenium.webdriver.remote.webelement.WebElement (session=\"de822edf2997ff6ea03878419713c431\", element=\"c5ffbcbc-222b-429b-9ae3-8ce470ce1fe6\")>\n",
      "<selenium.webdriver.remote.webelement.WebElement (session=\"de822edf2997ff6ea03878419713c431\", element=\"f8b6f3ae-67e5-43b7-b923-e895a95dea0e\")>\n",
      "<selenium.webdriver.remote.webelement.WebElement (session=\"de822edf2997ff6ea03878419713c431\", element=\"8d401d62-2501-4f07-8b87-8b841ff3156a\")>\n",
      "<selenium.webdriver.remote.webelement.WebElement (session=\"de822edf2997ff6ea03878419713c431\", element=\"eedab0be-5d9f-4c3e-bc0e-3d3c212527fd\")>\n",
      "<selenium.webdriver.remote.webelement.WebElement (session=\"de822edf2997ff6ea03878419713c431\", element=\"fe2045fc-0c29-4b51-98d2-2048711c2a65\")>\n",
      "<selenium.webdriver.remote.webelement.WebElement (session=\"de822edf2997ff6ea03878419713c431\", element=\"8018970e-7b7b-4d2d-bca7-c64b15d1808b\")>\n",
      "<selenium.webdriver.remote.webelement.WebElement (session=\"de822edf2997ff6ea03878419713c431\", element=\"2c12de2f-6b44-4194-a18a-42f64ddca094\")>\n",
      "<selenium.webdriver.remote.webelement.WebElement (session=\"de822edf2997ff6ea03878419713c431\", element=\"44597647-129a-41c9-9652-f4db13818db1\")>\n",
      "<selenium.webdriver.remote.webelement.WebElement (session=\"de822edf2997ff6ea03878419713c431\", element=\"ffc81256-18bb-402a-b214-208641738a41\")>\n",
      "<selenium.webdriver.remote.webelement.WebElement (session=\"de822edf2997ff6ea03878419713c431\", element=\"ade26671-0d08-4568-ace0-c90c8699b721\")>\n",
      "<selenium.webdriver.remote.webelement.WebElement (session=\"de822edf2997ff6ea03878419713c431\", element=\"5ac90c04-427f-4bc5-bc9f-ed80e715ed9a\")>\n",
      "<selenium.webdriver.remote.webelement.WebElement (session=\"de822edf2997ff6ea03878419713c431\", element=\"e8525bfb-4cd2-4d59-ab4c-2b4d7e39ae65\")>\n",
      "<selenium.webdriver.remote.webelement.WebElement (session=\"de822edf2997ff6ea03878419713c431\", element=\"9d74f360-02f4-4915-b479-df4568e4f64e\")>\n",
      "<selenium.webdriver.remote.webelement.WebElement (session=\"de822edf2997ff6ea03878419713c431\", element=\"f66c2ef3-9bfa-4060-9e49-433507bca4a5\")>\n",
      "<selenium.webdriver.remote.webelement.WebElement (session=\"de822edf2997ff6ea03878419713c431\", element=\"191c8a6f-98bd-4e34-b8da-dfde3c46cbf3\")>\n",
      "<selenium.webdriver.remote.webelement.WebElement (session=\"de822edf2997ff6ea03878419713c431\", element=\"0591d219-1ad9-4bb9-a74f-49bdec60ebea\")>\n",
      "<selenium.webdriver.remote.webelement.WebElement (session=\"de822edf2997ff6ea03878419713c431\", element=\"688a0ca0-f6ff-4ab2-97b4-f45816e433cd\")>\n",
      "<selenium.webdriver.remote.webelement.WebElement (session=\"de822edf2997ff6ea03878419713c431\", element=\"c1a42fdd-b186-4b24-9e22-7b7963db6940\")>\n",
      "<selenium.webdriver.remote.webelement.WebElement (session=\"de822edf2997ff6ea03878419713c431\", element=\"d1dea621-6798-4909-9f0c-ac2b459ba130\")>\n",
      "<selenium.webdriver.remote.webelement.WebElement (session=\"de822edf2997ff6ea03878419713c431\", element=\"057e6a4f-140a-4c06-a62f-cf36b26f47e6\")>\n",
      "<selenium.webdriver.remote.webelement.WebElement (session=\"de822edf2997ff6ea03878419713c431\", element=\"e23b00a3-4c9f-4486-93fc-bb93e4173b67\")>\n",
      "<selenium.webdriver.remote.webelement.WebElement (session=\"de822edf2997ff6ea03878419713c431\", element=\"9e45c648-9bd2-48b1-a637-5fa3dc53da92\")>\n",
      "<selenium.webdriver.remote.webelement.WebElement (session=\"de822edf2997ff6ea03878419713c431\", element=\"fd7a408f-5bdb-47c0-ba51-c9e68c966e18\")>\n",
      "<selenium.webdriver.remote.webelement.WebElement (session=\"de822edf2997ff6ea03878419713c431\", element=\"7d5b9b7b-1513-4171-b66c-b515e91533d1\")>\n",
      "<selenium.webdriver.remote.webelement.WebElement (session=\"de822edf2997ff6ea03878419713c431\", element=\"86f58674-265c-4696-b909-7322295998aa\")>\n",
      "<selenium.webdriver.remote.webelement.WebElement (session=\"de822edf2997ff6ea03878419713c431\", element=\"bdf4d906-0fb7-47ab-97d2-92f6eecbad3a\")>\n",
      "<selenium.webdriver.remote.webelement.WebElement (session=\"de822edf2997ff6ea03878419713c431\", element=\"e60a6b3b-ce60-4320-95f0-9198d5ef5912\")>\n",
      "<selenium.webdriver.remote.webelement.WebElement (session=\"de822edf2997ff6ea03878419713c431\", element=\"9b891a65-d164-4b55-a32a-836ab6e3d159\")>\n",
      "<selenium.webdriver.remote.webelement.WebElement (session=\"de822edf2997ff6ea03878419713c431\", element=\"30cde155-272b-4f74-8603-5a77cdb18c6f\")>\n",
      "<selenium.webdriver.remote.webelement.WebElement (session=\"de822edf2997ff6ea03878419713c431\", element=\"23097a65-6f33-437d-8b01-25102892ee1c\")>\n"
     ]
    }
   ],
   "source": [
    "PATH = '/usr/local/bin/chromedriver'\n",
    "driver = webdriver.Chrome(PATH)\n",
    "driver.get('https://shopee.ph/search?keyword=gaming%20laptop&order=desc&page=0&sortBy=price')\n",
    "\n",
    "try:\n",
    "    # sleep(5)\n",
    "    driver.implicitly_wait(5)\n",
    "\n",
    "    main = WebDriverWait(driver, 5).until(\n",
    "        EC.presence_of_element_located((By.ID, 'main'))\n",
    "    )\n",
    "\n",
    "    items = main.find_elements_by_class_name('shopee-search-item-result__item')\n",
    "    print(f'Items: {len(items)}')\n",
    "    for item in items:\n",
    "        a = item.find_element_by_tag_name('div')\n",
    "        print(a)\n",
    "\n",
    "    # filter.send_keys(Keys.RETURN)\n",
    "    # print(driver.title)\n",
    "    # print(driver.page_source)\n",
    "\n",
    "except Exception as e:\n",
    "    print(e)\n",
    "# finally:\n",
    "#     driver.quit()\n",
    "\n",
    "\n",
    "driver.maximize_window()\n",
    "driver.execute_script('window.scrollBy(0, 1000)', '')\n",
    "# driver.execute_script('window.scrollBy(0, document.body.scrollHeight)', '') # til end"
   ]
  },
  {
   "cell_type": "code",
   "execution_count": 24,
   "metadata": {},
   "outputs": [],
   "source": []
  },
  {
   "cell_type": "code",
   "execution_count": null,
   "metadata": {},
   "outputs": [],
   "source": []
  },
  {
   "cell_type": "code",
   "execution_count": null,
   "metadata": {},
   "outputs": [],
   "source": []
  }
 ]
}